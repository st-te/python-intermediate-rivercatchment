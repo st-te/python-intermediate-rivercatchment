{
 "cells": [
  {
   "cell_type": "code",
   "execution_count": 24,
   "metadata": {},
   "outputs": [],
   "source": [
    "import pandas as pd\n",
    "import pandas.testing as pdt\n",
    "from catchment.models import daily_mean\n",
    "import datetime\n",
    "import pytest"
   ]
  },
  {
   "cell_type": "code",
   "execution_count": 17,
   "metadata": {},
   "outputs": [],
   "source": [
    "test_input = pd.DataFrame(\n",
    "                data=[[1.0, 2.0],\n",
    "                      [3.0, 4.0],\n",
    "                      [5.0, 6.0]],\n",
    "                index=[pd.to_datetime('2000-01-01 01:00'),\n",
    "                       pd.to_datetime('2000-01-01 02:00'),\n",
    "                       pd.to_datetime('2000-01-01 03:00')],\n",
    "                columns=['A', 'B']\n",
    ")\n",
    "test_result = pd.DataFrame(\n",
    "                 data=[[3.0, 4.0]],\n",
    "                 index=[datetime.date(2000, 1, 1)],\n",
    "                 columns=['A', 'B']\n",
    ")"
   ]
  },
  {
   "cell_type": "code",
   "execution_count": 19,
   "metadata": {},
   "outputs": [],
   "source": [
    "test_output = pd.DataFrame(\n",
    "    data=[[3.0, 3.0]],\n",
    "    index=[datetime.date(2000, 1, 1)],\n",
    "    columns=['A', 'B']      \n",
    ")"
   ]
  },
  {
   "cell_type": "code",
   "execution_count": 22,
   "metadata": {},
   "outputs": [],
   "source": [
    "pdt.assert_frame_equal(daily_mean(test_input), test_result)"
   ]
  }
 ],
 "metadata": {
  "kernelspec": {
   "display_name": "venv",
   "language": "python",
   "name": "python3"
  },
  "language_info": {
   "codemirror_mode": {
    "name": "ipython",
    "version": 3
   },
   "file_extension": ".py",
   "mimetype": "text/x-python",
   "name": "python",
   "nbconvert_exporter": "python",
   "pygments_lexer": "ipython3",
   "version": "3.9.6"
  }
 },
 "nbformat": 4,
 "nbformat_minor": 2
}
